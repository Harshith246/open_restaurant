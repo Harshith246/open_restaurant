{
    "nbformat_minor": 1, 
    "cells": [
        {
            "source": "# Capstone Project - The Battle of the Neighborhoods", 
            "cell_type": "markdown", 
            "metadata": {
                "collapsed": true
            }
        }, 
        {
            "source": "### Business Problem", 
            "cell_type": "markdown", 
            "metadata": {}
        }, 
        {
            "source": "In this project, we attempt to locate an optimal primise for a restaurant. Specifically, this report is targeted to stakeholders who are interested in openning an Indian restaurant in Toronto.", 
            "cell_type": "markdown", 
            "metadata": {}
        }, 
        {
            "source": "As there are numerous restaurants including Chinese, Japanese, Korean, French, etc. in Toronto, we are trying to detect locations that are not already crowded with similar business. We particularly interested in areas with no Indian restaurants in vicinity. We should also prefer locations as close to city center as possible to be eye-catching, assuming that first two conditions are met.", 
            "cell_type": "markdown", 
            "metadata": {}
        }, 
        {
            "source": "We will use our tools and techniques to generate a few most promissing neighborhoods based on this criteria. Advantages of each area will then be clearly expressed so that best possible final location can be chosen by stakeholders.", 
            "cell_type": "markdown", 
            "metadata": {}
        }, 
        {
            "source": "### Data ", 
            "cell_type": "markdown", 
            "metadata": {}
        }, 
        {
            "source": "Based on definition of our problem, factors that will influence our decission are:\n- number of existing restaurants in the borough (any type of restaurant)\n- number of and distance to Indian restaurants in the borough, if any", 
            "cell_type": "markdown", 
            "metadata": {}
        }, 
        {
            "source": "We decided to use regularly spaced grid of locations, centered around city center, to define our neighborhoods. Following data sources will be needed to extract/generate the required information:", 
            "cell_type": "markdown", 
            "metadata": {}
        }, 
        {
            "source": "- centers of candidate areas will be generated algorithmically and approximate addresses of centers of those areas will be obtained using the given list of city in Toronto- \n- number of restaurants and their type and location in every neighborhood will be obtained using Foursquare API", 
            "cell_type": "markdown", 
            "metadata": {}
        }, 
        {
            "source": "### Borough Candidate", 
            "cell_type": "markdown", 
            "metadata": {}
        }, 
        {
            "source": "Based on the prior data given by the list of neighborhood in Toronto, import the relevant data including latitude and longitude, the neighborhood name, Borough etc. In this event research, we will focus on one single Borough that is the North York.", 
            "cell_type": "markdown", 
            "metadata": {}
        }, 
        {
            "source": "", 
            "cell_type": "markdown", 
            "metadata": {}
        }
    ], 
    "metadata": {
        "kernelspec": {
            "display_name": "Python 3.5", 
            "name": "python3", 
            "language": "python"
        }, 
        "language_info": {
            "mimetype": "text/x-python", 
            "nbconvert_exporter": "python", 
            "version": "3.5.5", 
            "name": "python", 
            "file_extension": ".py", 
            "pygments_lexer": "ipython3", 
            "codemirror_mode": {
                "version": 3, 
                "name": "ipython"
            }
        }
    }, 
    "nbformat": 4
}